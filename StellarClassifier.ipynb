{
  "nbformat": 4,
  "nbformat_minor": 0,
  "metadata": {
    "colab": {
      "provenance": []
    },
    "kernelspec": {
      "name": "python3",
      "display_name": "Python 3"
    },
    "language_info": {
      "name": "python"
    }
  },
  "cells": [
    {
      "source": [
        "!pip install catboost"
      ],
      "cell_type": "code",
      "metadata": {
        "id": "jT81lUkisopB"
      },
      "execution_count": null,
      "outputs": []
    },
    {
      "cell_type": "code",
      "source": [
        "import numpy as np\n",
        "import joblib\n",
        "import matplotlib.pyplot as plt\n",
        "import pandas as pd\n",
        "from sklearn.model_selection import train_test_split\n",
        "from sklearn.ensemble import RandomForestClassifier\n",
        "from sklearn.preprocessing import StandardScaler\n",
        "from joblib import load\n",
        "from sklearn.model_selection import train_test_split, RandomizedSearchCV\n",
        "from sklearn.svm import SVC\n",
        "from catboost import CatBoostClassifier, Pool\n",
        "from sklearn.metrics import accuracy_score, classification_report\n"
      ],
      "metadata": {
        "id": "igteHrgnTugp"
      },
      "execution_count": 2,
      "outputs": []
    },
    {
      "cell_type": "code",
      "source": [
        "\n",
        "\n",
        "# Set display options to show more rows\n",
        "pd.set_option('display.max_rows', None)\n",
        "\n",
        "# Read the CSV file into a pandas DataFrame\n",
        "df = pd.read_csv('/content/drive/MyDrive/YSO_2 - Sheet1.csv')\n",
        "\n",
        "# Function to calculate effective temperature using Ballesteros' formula\n",
        "def ballesteros_formula(bv):\n",
        "    if pd.notna(bv):\n",
        "        return 4600*((1/(0.92*bv+1.7))+(1/(0.92*bv+0.62)))\n",
        "    else:\n",
        "        return None\n",
        "\n",
        "# Apply Ballesteros' formula to the 'BV Index' column and print every calculated 'Effective Temperature'\n",
        "valid_results = []\n",
        "\n",
        "for bv_value in df['BV Index']:\n",
        "    temperature = ballesteros_formula(bv_value)\n",
        "    valid_results.append(temperature)\n",
        "\n",
        "# Print every calculated 'Effective Temperature'\n",
        "for result in valid_results:\n",
        "    print(result)\n"
      ],
      "metadata": {
        "id": "kfgjj9AflR00"
      },
      "execution_count": null,
      "outputs": []
    },
    {
      "cell_type": "code",
      "source": [
        "\n",
        "\n",
        "plt.figure(figsize=(10, 6))\n",
        "\n",
        "# Plot each class with a different color\n",
        "for class_label in y.unique():\n",
        "    class_data = X[y == class_label]\n",
        "\n",
        "    # Add jitter to x and y coordinates\n",
        "    jittered_x = class_data['BV Index'] + np.random.normal(0, 0.1, len(class_data))\n",
        "    jittered_y = class_data['Tempature'] + np.random.normal(0, 0.1, len(class_data))\n",
        "\n",
        "    plt.scatter(jittered_x, jittered_y, label=f'Class {class_label}', alpha=0.7)\n",
        "\n",
        "plt.title('Scatter Plot of Dataset with BV Index and Temperature with Jitter')\n",
        "plt.xlabel('BV Index')\n",
        "plt.ylabel('Temperature')\n",
        "plt.legend()\n",
        "plt.show()\n",
        "\n"
      ],
      "metadata": {
        "id": "Z6LvSSQmQudy"
      },
      "execution_count": null,
      "outputs": []
    },
    {
      "cell_type": "code",
      "source": [
        "file_path = '/content/drive/MyDrive/CSV Files/Indo-US-P and T data - Indo-US-P and T data (2).csv'\n",
        "df = pd.read_csv(file_path)\n",
        "\n",
        "# Drop rows with NaN values in any column\n",
        "df = df.dropna()\n",
        "\n",
        "# Assuming your class label column is named 'Class'\n",
        "X = df[['BV Index', 'Tempature']]  # Features\n",
        "y = df['Class']  # Class labels\n",
        "\n",
        "scaler = StandardScaler()\n",
        "X_scaled = scaler.fit_transform(X)\n",
        "# Split the data into training and testing sets\n",
        "X_train, X_test, y_train, y_test = train_test_split(X_scaled, y, test_size=0.2, random_state=42)"
      ],
      "metadata": {
        "id": "g69-htKDjS41"
      },
      "execution_count": 5,
      "outputs": []
    },
    {
      "cell_type": "code",
      "source": [
        "# Load your new CSV file into a pandas DataFrame\n",
        "new_data = pd.read_csv('/content/drive/MyDrive/CSV Files/YSO_2 - Sheet1 - YSO_2 - Sheet1.csv')\n",
        "\n",
        "# Drop rows with NaN values in any column\n",
        "new_data = new_data.dropna()\n",
        "\n",
        "# Assuming your feature columns are the same as the ones used for training ('BV Index', 'Tempature')\n",
        "X_new = new_data[['BV Index', 'Tempature']]\n",
        "\n",
        "# Normalize the features using the same scaler as before\n",
        "X_new_scaled = scaler.transform(X_new)\n",
        "y_new_true = new_data['Class']"
      ],
      "metadata": {
        "id": "wIOBT0AGj4lo"
      },
      "execution_count": 12,
      "outputs": []
    },
    {
      "cell_type": "code",
      "source": [
        "# Create a Random Forest Classifier\n",
        "rf_classifier = RandomForestClassifier(criterion='gini', n_estimators=150, random_state=0)\n",
        "\n",
        "# Train the model on the training set\n",
        "rf_classifier.fit(X_train, y_train)\n",
        "\n",
        "# Evaluate the model on the test set\n",
        "accuracy = accuracy_score(y_test, rf_classifier.predict(X_test))\n",
        "print(f'\\nTest Set Accuracy: {accuracy:.2f}')\n",
        "\n",
        "# Display other classification metrics for the test set\n",
        "print('Test Set Classification Report:')\n",
        "print(classification_report(y_test, rf_classifier.predict(X_test)))\n",
        "\n",
        "# Visualize decision boundaries\n",
        "\n",
        "joblib.dump(rf_classifier, 'rf_model.joblib')\n",
        "\n"
      ],
      "metadata": {
        "id": "xYWPpAHkafaM"
      },
      "execution_count": null,
      "outputs": []
    },
    {
      "cell_type": "code",
      "source": [
        "# Load the trained model\n",
        "loaded_model_rf = load('rf_model.joblib')\n",
        "y_new_pred = loaded_model_rf.predict(X_new_scaled)\n",
        "y_new_true = new_data['Class']\n",
        "accuracy_new = accuracy_score(y_new_true, y_new_pred)\n",
        "\n",
        "print('Predictions:')\n",
        "print(y_new_pred)\n",
        "\n",
        "print(\"Accuracy on the new data: {:.2f}\".format(accuracy_new))\n",
        "\n"
      ],
      "metadata": {
        "colab": {
          "base_uri": "https://localhost:8080/"
        },
        "id": "nD_rfLCERc-1",
        "outputId": "9dab95d6-b23d-431c-e2f6-5e2193594f62"
      },
      "execution_count": null,
      "outputs": [
        {
          "output_type": "stream",
          "name": "stdout",
          "text": [
            "Predictions:\n",
            "[6 6 5 ... 0 0 0]\n",
            "Accuracy on the new data: 0.75\n"
          ]
        }
      ]
    },
    {
      "cell_type": "code",
      "source": [
        "\n",
        "\n",
        "# Hyperparameter tuning with RandomizedSearchCV\n",
        "param_dist = {'C': [1], 'kernel': ['linear'], 'gamma': [1], 'degree': [2]}\n",
        "random_search = RandomizedSearchCV(SVC(random_state=42, probability=True), param_distributions=param_dist, n_iter=1, cv=5, random_state=42)\n",
        "random_search.fit(X_train, y_train)\n",
        "best_svm_classifier = random_search.best_estimator_\n",
        "print(\"Best Hyperparameters:\")\n",
        "print(random_search.best_params_)\n",
        "\n",
        "y_pred_best_svm = best_svm_classifier.predict(X_test)\n",
        "\n",
        "# Evaluate the Best SVM model\n",
        "accuracy_best_svm = accuracy_score(y_test, y_pred_best_svm)\n",
        "classification_rep_best_svm = classification_report(y_test, y_pred_best_svm)\n",
        "\n",
        "print(\"Best SVM Model:\")\n",
        "print(f\"Accuracy: {accuracy_best_svm:.2f}\\n\")\n",
        "print(\"Classification Report:\\n\", classification_rep_best_svm)\n",
        "\n",
        "import joblib\n",
        "joblib.dump(best_svm_classifier, 'svm_model.joblib')\n",
        "\n",
        "\n"
      ],
      "metadata": {
        "id": "PMFBRF61D6AV"
      },
      "execution_count": null,
      "outputs": []
    },
    {
      "cell_type": "code",
      "source": [
        "# Load the trained model\n",
        "loaded_model_svm = load('svm_model.joblib')\n",
        "y_new_pred = loaded_model_svm.predict(X_new_scaled)\n",
        "y_new_true = new_data['Class']\n",
        "accuracy_new = accuracy_score(y_new_true, y_new_pred)\n",
        "\n",
        "print('Predictions:')\n",
        "print(y_new_pred)\n",
        "\n",
        "print(\"Accuracy on the new data: {:.2f}\".format(accuracy_new))"
      ],
      "metadata": {
        "id": "B9fzlVY9lUiq"
      },
      "execution_count": null,
      "outputs": []
    },
    {
      "cell_type": "code",
      "source": [
        "catboost_classifier = CatBoostClassifier(iterations=125, depth=4, learning_rate=0.1, loss_function='MultiClass')\n",
        "\n",
        "# Train the model\n",
        "catboost_classifier.fit(X_train, y_train)\n",
        "\n",
        "# Make predictions on the test set\n",
        "y_pred_catboost = catboost_classifier.predict(X_test)\n",
        "\n",
        "# Evaluate the CatBoost model\n",
        "accuracy_catboost = accuracy_score(y_test, y_pred_catboost)\n",
        "classification_rep_catboost = classification_report(y_test, y_pred_catboost)\n",
        "\n",
        "print(\"CatBoost Model:\")\n",
        "print(f\"Accuracy: {accuracy_catboost:.2f}\\n\")\n",
        "print(\"Classification Report:\\n\", classification_rep_catboost)\n",
        "\n",
        "joblib.dump(catboost_classifier, 'catboost_model.joblib')\n",
        "\n"
      ],
      "metadata": {
        "id": "43AZ6buZedhV"
      },
      "execution_count": null,
      "outputs": []
    },
    {
      "cell_type": "code",
      "source": [
        "# Load the trained model\n",
        "loaded_model_svm = load('catboost_model.joblib')\n",
        "y_new_pred = loaded_model_svm.predict(X_new_scaled)\n",
        "y_new_true = new_data['Class']\n",
        "accuracy_new = accuracy_score(y_new_true, y_new_pred)\n",
        "\n",
        "print('Predictions:')\n",
        "print(y_new_pred)\n",
        "\n",
        "print(\"Accuracy on the new data: {:.2f}\".format(accuracy_new))"
      ],
      "metadata": {
        "id": "y5clK5FbfZX5"
      },
      "execution_count": null,
      "outputs": []
    },
    {
      "cell_type": "markdown",
      "source": [],
      "metadata": {
        "id": "AVo8izD4wotV"
      }
    },
    {
      "cell_type": "code",
      "source": [],
      "metadata": {
        "id": "UA4HC29owYgy"
      },
      "execution_count": null,
      "outputs": []
    }
  ]
}